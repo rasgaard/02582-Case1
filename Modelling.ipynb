{
 "cells": [
  {
   "cell_type": "code",
   "execution_count": 1,
   "metadata": {},
   "outputs": [],
   "source": [
    "from sklearn.model_selection import TimeSeriesSplit, StratifiedKFold, GridSearchCV\n",
    "import pandas as pd\n",
    "from sklearn.ensemble import RandomForestRegressor\n",
    "from sklearn.feature_selection import VarianceThreshold, SelectKBest, f_regression\n",
    "from xgboost import XGBRegressor\n",
    "import numpy as np"
   ]
  },
  {
   "cell_type": "code",
   "execution_count": 2,
   "metadata": {},
   "outputs": [
    {
     "data": {
      "text/plain": [
       "(39449, 9)"
      ]
     },
     "execution_count": 2,
     "metadata": {},
     "output_type": "execute_result"
    }
   ],
   "source": [
    "df_raw = pd.read_excel(\"realized.xlsx\", engine='openpyxl')\n",
    "df_raw.shape"
   ]
  },
  {
   "cell_type": "code",
   "execution_count": 3,
   "metadata": {},
   "outputs": [
    {
     "data": {
      "text/plain": [
       "(39389, 9)"
      ]
     },
     "execution_count": 3,
     "metadata": {},
     "output_type": "execute_result"
    }
   ],
   "source": [
    "df_raw = df_raw.dropna(how='any')\n",
    "df_raw = df_raw[df_raw['LoadFactor'] != 0]\n",
    "df_raw.shape"
   ]
  },
  {
   "cell_type": "code",
   "execution_count": 4,
   "metadata": {},
   "outputs": [
    {
     "data": {
      "text/html": [
       "<div>\n",
       "<style scoped>\n",
       "    .dataframe tbody tr th:only-of-type {\n",
       "        vertical-align: middle;\n",
       "    }\n",
       "\n",
       "    .dataframe tbody tr th {\n",
       "        vertical-align: top;\n",
       "    }\n",
       "\n",
       "    .dataframe thead th {\n",
       "        text-align: right;\n",
       "    }\n",
       "</style>\n",
       "<table border=\"1\" class=\"dataframe\">\n",
       "  <thead>\n",
       "    <tr style=\"text-align: right;\">\n",
       "      <th></th>\n",
       "      <th>ScheduleTime</th>\n",
       "      <th>Airline</th>\n",
       "      <th>FlightNumber</th>\n",
       "      <th>Destination</th>\n",
       "      <th>AircraftType</th>\n",
       "      <th>FlightType</th>\n",
       "      <th>Sector</th>\n",
       "      <th>SeatCapacity</th>\n",
       "      <th>LoadFactor</th>\n",
       "    </tr>\n",
       "  </thead>\n",
       "  <tbody>\n",
       "    <tr>\n",
       "      <th>0</th>\n",
       "      <td>2021-01-01 06:35:00</td>\n",
       "      <td>IA</td>\n",
       "      <td>874</td>\n",
       "      <td>DEN</td>\n",
       "      <td>73W</td>\n",
       "      <td>J</td>\n",
       "      <td>US</td>\n",
       "      <td>142</td>\n",
       "      <td>0.408451</td>\n",
       "    </tr>\n",
       "    <tr>\n",
       "      <th>1</th>\n",
       "      <td>2021-01-01 10:35:00</td>\n",
       "      <td>JZ</td>\n",
       "      <td>818</td>\n",
       "      <td>YHM</td>\n",
       "      <td>AT7</td>\n",
       "      <td>J</td>\n",
       "      <td>CA</td>\n",
       "      <td>74</td>\n",
       "      <td>0.189189</td>\n",
       "    </tr>\n",
       "    <tr>\n",
       "      <th>2</th>\n",
       "      <td>2021-01-01 12:05:00</td>\n",
       "      <td>IA</td>\n",
       "      <td>876</td>\n",
       "      <td>DEN</td>\n",
       "      <td>73W</td>\n",
       "      <td>J</td>\n",
       "      <td>US</td>\n",
       "      <td>142</td>\n",
       "      <td>0.570423</td>\n",
       "    </tr>\n",
       "    <tr>\n",
       "      <th>3</th>\n",
       "      <td>2021-01-01 13:20:00</td>\n",
       "      <td>CN</td>\n",
       "      <td>514</td>\n",
       "      <td>EST</td>\n",
       "      <td>AT7</td>\n",
       "      <td>J</td>\n",
       "      <td>US</td>\n",
       "      <td>72</td>\n",
       "      <td>0.333333</td>\n",
       "    </tr>\n",
       "    <tr>\n",
       "      <th>4</th>\n",
       "      <td>2021-01-01 14:20:00</td>\n",
       "      <td>LJ</td>\n",
       "      <td>3140</td>\n",
       "      <td>DEN</td>\n",
       "      <td>32A</td>\n",
       "      <td>J</td>\n",
       "      <td>US</td>\n",
       "      <td>186</td>\n",
       "      <td>0.204301</td>\n",
       "    </tr>\n",
       "  </tbody>\n",
       "</table>\n",
       "</div>"
      ],
      "text/plain": [
       "         ScheduleTime Airline  FlightNumber Destination AircraftType  \\\n",
       "0 2021-01-01 06:35:00      IA           874         DEN          73W   \n",
       "1 2021-01-01 10:35:00      JZ           818         YHM          AT7   \n",
       "2 2021-01-01 12:05:00      IA           876         DEN          73W   \n",
       "3 2021-01-01 13:20:00      CN           514         EST          AT7   \n",
       "4 2021-01-01 14:20:00      LJ          3140         DEN          32A   \n",
       "\n",
       "  FlightType Sector  SeatCapacity  LoadFactor  \n",
       "0          J     US           142    0.408451  \n",
       "1          J     CA            74    0.189189  \n",
       "2          J     US           142    0.570423  \n",
       "3          J     US            72    0.333333  \n",
       "4          J     US           186    0.204301  "
      ]
     },
     "execution_count": 4,
     "metadata": {},
     "output_type": "execute_result"
    }
   ],
   "source": [
    "df_raw.head()"
   ]
  },
  {
   "cell_type": "code",
   "execution_count": 5,
   "metadata": {},
   "outputs": [],
   "source": [
    "def make_time_features(df):\n",
    "    for feature in [\"Airline\", \"Destination\", \"AircraftType\", \"FlightType\", \"Sector\"]:\n",
    "        df[feature] = df[feature].astype(str).astype('category')\n",
    "\n",
    "    df['Minute'] = df['ScheduleTime'].dt.minute\n",
    "    df['Hour'] = df['ScheduleTime'].dt.hour\n",
    "    df['Day'] = df['ScheduleTime'].dt.day\n",
    "    df['Week'] = df['ScheduleTime'].dt.isocalendar().week.astype(int)\n",
    "    df['Month'] = df['ScheduleTime'].dt.month\n",
    "    season_mapping = {12: \"Winter\", 1: \"Winter\", 2: \"Winter\",\n",
    "                    3: \"Spring\", 4: \"Spring\", 5: \"Spring\",\n",
    "                    6: \"Summer\", 7: \"Summer\", 8: \"Summer\",\n",
    "                    9: \"Autumn\", 10: \"Autumn\", 11: \"Autumn\"}\n",
    "    df['Season'] = df['Month'].apply(lambda x: season_mapping[x])\n",
    "    return df\n",
    "# df = make_time_features(df)\n",
    "\n",
    "def convert_time_to_unixtime(df):\n",
    "    df['ScheduleTime'] = (df['ScheduleTime'] - pd.Timestamp(\"1970-01-01\"))// pd.Timedelta('1s')\n",
    "    return df\n",
    "\n",
    "df = convert_time_to_unixtime(df_raw)"
   ]
  },
  {
   "cell_type": "code",
   "execution_count": 6,
   "metadata": {},
   "outputs": [],
   "source": [
    "def categorical_to_dummies(df):\n",
    "    return pd.get_dummies(df, columns=[\"FlightNumber\", \"Airline\", \"Destination\", \"AircraftType\", \"FlightType\", \"Sector\"])\n"
   ]
  },
  {
   "cell_type": "code",
   "execution_count": 7,
   "metadata": {},
   "outputs": [],
   "source": [
    "def threshold_df(df, threshold):\n",
    "    var_thresh = VarianceThreshold(threshold=threshold).fit(df)\n",
    "    thres_column_names = df.columns[var_thresh.get_support()]\n",
    "    X = var_thresh.transform(df)\n",
    "    return X, thres_column_names, var_thresh"
   ]
  },
  {
   "cell_type": "code",
   "execution_count": 8,
   "metadata": {},
   "outputs": [],
   "source": [
    "def flight_accuracy(LoadFactor_true, LoadFactor_hat, SeatCapacity):\n",
    "    actual_passangers = LoadFactor_true*SeatCapacity\n",
    "    forecasted_passangers = LoadFactor_hat*SeatCapacity\n",
    "    deviation_per_flight = (actual_passangers - forecasted_passangers) / (actual_passangers)\n",
    "    abs_deviation_per_flight = np.abs(deviation_per_flight)\n",
    "    abs_deviation_per_flight[abs_deviation_per_flight >= 10000] = 100\n",
    "\n",
    "    mean_forecast_acc = np.mean(1 - abs_deviation_per_flight*1)*100\n",
    "    return mean_forecast_acc"
   ]
  },
  {
   "cell_type": "markdown",
   "metadata": {},
   "source": [
    "# Splitting the data\n",
    "Since normal splitting stratigies assumes that data is i.i.d and we can clearly see that there are trends in the data we'll use `TimeSeriesSplit`"
   ]
  },
  {
   "cell_type": "code",
   "execution_count": 9,
   "metadata": {},
   "outputs": [],
   "source": [
    "from sklearn.metrics import mean_squared_error, r2_score\n",
    "from sklearn.preprocessing import Normalizer\n",
    "from sklearn.preprocessing import StandardScaler\n",
    "\n",
    "def perform_splits(df, threshold, n_estimators, criterion, bootstrap, max_leaf_nodes, max_depth):\n",
    "    df = categorical_to_dummies(df)\n",
    "    X, thres_column_names, _ = threshold_df(df.drop(['LoadFactor'], axis=1), threshold)\n",
    "    y = df['LoadFactor'].to_numpy()\n",
    "\n",
    "    n = 5\n",
    "    tscv = TimeSeriesSplit(n_splits=n)\n",
    "\n",
    "    flight_acc_list = []\n",
    "    r2_score_list = []\n",
    "    for i, (train_index, test_index) in enumerate(tscv.split(X, y)):\n",
    "        X_train, X_test = X[train_index], X[test_index]\n",
    "        y_train, y_test = y[train_index], y[test_index]\n",
    "\n",
    "        X_train = StandardScaler().fit_transform(X_train, y_train)\n",
    "        X_test = StandardScaler().fit_transform(X_test, y_test)\n",
    "\n",
    "        RF_regr = RandomForestRegressor(n_estimators=n_estimators,\n",
    "                                        criterion=criterion, \n",
    "                                        bootstrap=bootstrap, \n",
    "                                        max_leaf_nodes=max_leaf_nodes, \n",
    "                                        max_depth=max_depth, oob_score=True, n_jobs=16)\n",
    "\n",
    "        RF_regr.fit(X_train, y_train)\n",
    "        \n",
    "        y_hat = RF_regr.predict(X_test)\n",
    "        score = r2_score(y_test, y_hat)\n",
    "        r2_score_list.append(score)\n",
    "        \n",
    "        SeatCapacity_idx = np.argwhere(thres_column_names == \"SeatCapacity\")\n",
    "        SeatCapacity = X_test[:,SeatCapacity_idx]\n",
    "\n",
    "        flight_acc = flight_accuracy(y_test, y_hat, SeatCapacity)\n",
    "        flight_acc_list.append(flight_acc)\n",
    "\n",
    "        print(f\"Score of split {i}: {round(score, 2)}\")\n",
    "        print(f\"Flight acc of split {i}: {round(flight_acc, 2)}\")\n",
    "        \n",
    "    mean_flight_acc = np.mean(flight_acc_list)\n",
    "    mean_r2_score = np.mean(r2_score_list)\n",
    "    return mean_flight_acc"
   ]
  },
  {
   "cell_type": "code",
   "execution_count": 10,
   "metadata": {},
   "outputs": [],
   "source": [
    "df_eval = df_raw[int(39389*.8):]\n",
    "df_train = df_raw[:int(39389*.8)]"
   ]
  },
  {
   "cell_type": "code",
   "execution_count": 11,
   "metadata": {},
   "outputs": [
    {
     "name": "stderr",
     "output_type": "stream",
     "text": [
      "\u001b[32m[I 2022-03-21 20:08:55,121]\u001b[0m A new study created in memory with name: no-name-864746db-59c4-40df-b4d3-c22cac7ae251\u001b[0m\n"
     ]
    },
    {
     "name": "stdout",
     "output_type": "stream",
     "text": [
      "Score of split 0: -0.42\n",
      "Flight acc of split 0: 25.35\n",
      "Score of split 1: -0.16\n",
      "Flight acc of split 1: 34.12\n",
      "Score of split 2: -0.46\n",
      "Flight acc of split 2: 23.49\n",
      "Score of split 3: -0.35\n",
      "Flight acc of split 3: -24.38\n"
     ]
    },
    {
     "name": "stderr",
     "output_type": "stream",
     "text": [
      "\u001b[32m[I 2022-03-21 20:09:57,799]\u001b[0m Trial 0 finished with value: 20.44473671754699 and parameters: {'max_leaf_nodes': 6846, 'threshold': 0.07892536051171423, 'n_estimators': 1700}. Best is trial 0 with value: 20.44473671754699.\u001b[0m\n"
     ]
    },
    {
     "name": "stdout",
     "output_type": "stream",
     "text": [
      "Score of split 4: -0.47\n",
      "Flight acc of split 4: 43.64\n",
      "Score of split 0: -0.28\n",
      "Flight acc of split 0: 31.81\n",
      "Score of split 1: -0.01\n",
      "Flight acc of split 1: 40.81\n",
      "Score of split 2: -0.29\n",
      "Flight acc of split 2: 29.91\n",
      "Score of split 3: -0.32\n",
      "Flight acc of split 3: -20.0\n"
     ]
    },
    {
     "name": "stderr",
     "output_type": "stream",
     "text": [
      "\u001b[32m[I 2022-03-21 20:10:36,843]\u001b[0m Trial 1 finished with value: 24.883613488759504 and parameters: {'max_leaf_nodes': 3807, 'threshold': 0.03001413622704613, 'n_estimators': 900}. Best is trial 1 with value: 24.883613488759504.\u001b[0m\n"
     ]
    },
    {
     "name": "stdout",
     "output_type": "stream",
     "text": [
      "Score of split 4: -0.39\n",
      "Flight acc of split 4: 41.88\n",
      "Score of split 0: -0.36\n",
      "Flight acc of split 0: 39.72\n",
      "Score of split 1: 0.03\n",
      "Flight acc of split 1: 48.91\n",
      "Score of split 2: -0.22\n",
      "Flight acc of split 2: 40.02\n",
      "Score of split 3: -0.06\n",
      "Flight acc of split 3: 0.16\n"
     ]
    },
    {
     "name": "stderr",
     "output_type": "stream",
     "text": [
      "\u001b[32m[I 2022-03-21 20:16:37,045]\u001b[0m Trial 2 finished with value: 34.55177419055461 and parameters: {'max_leaf_nodes': 758, 'threshold': 0.0013055816181958002, 'n_estimators': 1300}. Best is trial 2 with value: 34.55177419055461.\u001b[0m\n"
     ]
    },
    {
     "name": "stdout",
     "output_type": "stream",
     "text": [
      "Score of split 4: -0.25\n",
      "Flight acc of split 4: 43.95\n",
      "Score of split 0: -0.48\n",
      "Flight acc of split 0: 27.99\n",
      "Score of split 1: -0.14\n",
      "Flight acc of split 1: 37.36\n",
      "Score of split 2: -0.42\n",
      "Flight acc of split 2: 25.59\n",
      "Score of split 3: -0.38\n",
      "Flight acc of split 3: -22.16\n"
     ]
    },
    {
     "name": "stderr",
     "output_type": "stream",
     "text": [
      "\u001b[32m[I 2022-03-21 20:17:55,480]\u001b[0m Trial 3 finished with value: 22.097403041547732 and parameters: {'max_leaf_nodes': 6747, 'threshold': 0.05254705942531801, 'n_estimators': 2000}. Best is trial 2 with value: 34.55177419055461.\u001b[0m\n"
     ]
    },
    {
     "name": "stdout",
     "output_type": "stream",
     "text": [
      "Score of split 4: -0.45\n",
      "Flight acc of split 4: 41.7\n",
      "Score of split 0: -0.43\n",
      "Flight acc of split 0: 23.2\n",
      "Score of split 1: -0.19\n",
      "Flight acc of split 1: 34.76\n",
      "Score of split 2: -0.43\n",
      "Flight acc of split 2: 28.69\n",
      "Score of split 3: -0.24\n",
      "Flight acc of split 3: -18.12\n"
     ]
    },
    {
     "name": "stderr",
     "output_type": "stream",
     "text": [
      "\u001b[32m[I 2022-03-21 20:18:16,687]\u001b[0m Trial 4 finished with value: 22.338767124365084 and parameters: {'max_leaf_nodes': 7316, 'threshold': 0.16015154715167573, 'n_estimators': 400}. Best is trial 2 with value: 34.55177419055461.\u001b[0m\n"
     ]
    },
    {
     "name": "stdout",
     "output_type": "stream",
     "text": [
      "Score of split 4: -0.44\n",
      "Flight acc of split 4: 43.17\n",
      "Score of split 0: -0.37\n",
      "Flight acc of split 0: 40.14\n",
      "Score of split 1: 0.03\n",
      "Flight acc of split 1: 49.94\n"
     ]
    }
   ],
   "source": [
    "import optuna\n",
    "\n",
    "def objective(trial):\n",
    "    criterion = \"mse\" # = trial.suggest_categorical('criterion', ['mse', 'mae'])\n",
    "    bootstrap = True #  trial.suggest_categorical('bootstrap',['True','False'])\n",
    "    max_leaf_nodes = trial.suggest_int('max_leaf_nodes', 1, 10000)\n",
    "    threshold = trial.suggest_uniform(\"threshold\", 0.0, 0.25)\n",
    "    n_estimators = trial.suggest_int(\"n_estimators\", 100, 2000, 100)\n",
    "    max_depth = None # = trial.suggest_int('max_depth', 1, 10000)\n",
    "    return perform_splits(df_train, threshold, n_estimators, criterion, bootstrap, max_leaf_nodes, max_depth)\n",
    "\n",
    "study = optuna.create_study(direction=\"maximize\")\n",
    "study.optimize(objective, n_trials=200)"
   ]
  },
  {
   "cell_type": "code",
   "execution_count": null,
   "metadata": {},
   "outputs": [],
   "source": []
  }
 ],
 "metadata": {
  "interpreter": {
   "hash": "4982d8c6f752a681ead2ffe4c04612f10724b68221d43655e2f278365276866d"
  },
  "kernelspec": {
   "display_name": "Python 3.8.12 ('02582CDA')",
   "language": "python",
   "name": "python3"
  },
  "language_info": {
   "codemirror_mode": {
    "name": "ipython",
    "version": 3
   },
   "file_extension": ".py",
   "mimetype": "text/x-python",
   "name": "python",
   "nbconvert_exporter": "python",
   "pygments_lexer": "ipython3",
   "version": "3.6.13"
  },
  "orig_nbformat": 4
 },
 "nbformat": 4,
 "nbformat_minor": 2
}
